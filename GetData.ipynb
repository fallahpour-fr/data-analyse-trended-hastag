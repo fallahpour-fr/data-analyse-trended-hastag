{
 "cells": [
  {
   "cell_type": "code",
   "execution_count": 5,
   "metadata": {},
   "outputs": [],
   "source": [
    "import requests\n",
    "import pandas as pd"
   ]
  },
  {
   "cell_type": "code",
   "execution_count": 52,
   "metadata": {},
   "outputs": [],
   "source": [
    "bearer_token = \"AAAAAAAAAAAAAAAAAAAAAIdgiAEAAAAAHKWt9xmVxV9UFNfFbiwIqAJW8AE%3DlwYvJJfMrWjOsUX9iymnjOFUge9SfVuOPMbGquFqK159OcE6RF\""
   ]
  },
  {
   "cell_type": "code",
   "execution_count": 16,
   "metadata": {},
   "outputs": [],
   "source": [
    "search_url = \"https://api.twitter.com/2/tweets/search/recent?\"\n",
    "query_params = {'query': '#MahsaAmini','tweet.fields': 'author_id'}"
   ]
  },
  {
   "cell_type": "code",
   "execution_count": 17,
   "metadata": {},
   "outputs": [],
   "source": [
    "def bearer_oauth(r):\n",
    "    r.headers[\"Authorization\"] = f\"Bearer {bearer_token}\"\n",
    "    r.headers[\"User-Agent\"] = \"v2RecentSearchPython\"\n",
    "    return r"
   ]
  },
  {
   "cell_type": "code",
   "execution_count": 13,
   "metadata": {},
   "outputs": [],
   "source": [
    "headers = {\"Authorization\": \"Bearer {}\".format(bearer_token)}"
   ]
  },
  {
   "cell_type": "code",
   "execution_count": 18,
   "metadata": {},
   "outputs": [],
   "source": [
    "def connect_to_endpoint(url, params):\n",
    "    response = requests.get(url, auth=bearer_oauth, params=params)\n",
    "    print(response.status_code)\n",
    "    if response.status_code != 200:\n",
    "        raise Exception(response.status_code, response.text)\n",
    "    return response.json()"
   ]
  },
  {
   "cell_type": "code",
   "execution_count": 24,
   "metadata": {},
   "outputs": [
    {
     "name": "stdout",
     "output_type": "stream",
     "text": [
      "200\n"
     ]
    }
   ],
   "source": [
    "json_response = connect_to_endpoint(search_url, query_params)"
   ]
  },
  {
   "cell_type": "code",
   "execution_count": 26,
   "metadata": {},
   "outputs": [
    {
     "data": {
      "text/plain": [
       "[{'text': 'RT @ManotoNews: شعار «بسیجی جیره\\u200cخور» در دانشگاه آزاد نجف\\u200cآباد\\n#مهسا_امینی\\n#mahsaamini https://t.co/fqQFd1ttCc',\n",
       "  'edit_history_tweet_ids': ['1589964488442515458'],\n",
       "  'id': '1589964488442515458',\n",
       "  'author_id': '1264611341563645952'},\n",
       " {'text': 'RT @Nina01860872: @A__R__Y__A___N @ljaakonsaari @MarinSanna @MarinaLindfors @UNICEF @TaussiSari @ylenews @UN_HRC @UNHumanRights @HRC @ICHRI…',\n",
       "  'edit_history_tweet_ids': ['1589964485321977857'],\n",
       "  'id': '1589964485321977857',\n",
       "  'author_id': '1556996043916599301'},\n",
       " {'text': '@pouriazeraati #MahsaAmini \\n#اعتصابات_سراسری https://t.co/09H7ngbbju',\n",
       "  'edit_history_tweet_ids': ['1589964485309386754'],\n",
       "  'id': '1589964485309386754',\n",
       "  'author_id': '1581794770128625664'},\n",
       " {'text': 'زن زندگی آزادی\\nاسم رمز\\n#مهسا_امینی\\n#MahsaAmini https://t.co/pzMiO9GDdT',\n",
       "  'edit_history_tweet_ids': ['1589964483409371142'],\n",
       "  'id': '1589964483409371142',\n",
       "  'author_id': '1571310900144996353'},\n",
       " {'text': 'RT @shahrbanoo1985: @twitter @TwitterSupport\\nTerrorists in Iran reported @jupiter_rad_2 which is one of the best anonymous iranian accounts…',\n",
       "  'edit_history_tweet_ids': ['1589964478799810560'],\n",
       "  'id': '1589964478799810560',\n",
       "  'author_id': '1574082915729739777'},\n",
       " {'text': '💚 زنده باد ایران💚💚 💚\\n💚💚IRANIKA💚💚💚\\n💚💚#OpIran💚💚💚💚\\n🤍🤍🤍🤍🤍🤍🤍🤍🤍\\n🤍🤍🤍🤍🤍🤍🤍🤍🤍\\n❤#MahsaAmini❤❤❤\\n❤❤#National strike\\xa0 ❤\\n❤❤❤❤❤❤❤❤♥\\nSHARRIF UNIVERSITY \\nZAHEDAN-Sanandaj https://t.co/VTFXbdTKbN',\n",
       "  'edit_history_tweet_ids': ['1589964478653034497'],\n",
       "  'id': '1589964478653034497',\n",
       "  'author_id': '1576265111618084865'},\n",
       " {'text': '#toomajsalehi\\n#MahsaAmini #opiran\\n#IranRevolution2022\\n#مهسا_امینی  #اعتصاب_سراسری\\n#توماج_صالحی https://t.co/ryycbZSWlx',\n",
       "  'edit_history_tweet_ids': ['1589964477281497091'],\n",
       "  'id': '1589964477281497091',\n",
       "  'author_id': '1348096771071877124'},\n",
       " {'text': 'RT @FattahiFarzad: «ظلم و ستم بسمونه\\nجونمون دستمونه» \\n\\nتجمع دانشجویان دانشگاه علم و فرهنگ تهران\\n\\n#مهسا_امینی\\n #MahsaAmini https://t.co/qsT5…',\n",
       "  'edit_history_tweet_ids': ['1589964475721187329'],\n",
       "  'id': '1589964475721187329',\n",
       "  'author_id': '1573319555811778561'},\n",
       " {'text': 'RT @anonymousopiran: ادعای رهبریت ایران را می\\u200cکند اما جرأت باز گذاشتن کامنت ندارد که مردمی که خانم آرزوی رهبریتشان را دارد کامنت بگذارند. خ…',\n",
       "  'edit_history_tweet_ids': ['1589964472701325315'],\n",
       "  'id': '1589964472701325315',\n",
       "  'author_id': '984673342249684992'},\n",
       " {'text': 'RT @sinavaliollah: من حامی هیچ حزب و گروه و دسته و دست خری نیستم جز مردم وطنم تا لحظه\\u200cای که نفس دارم. زور الکی هم برای چسبوندن من به هر عنی…',\n",
       "  'edit_history_tweet_ids': ['1589964472654782464'],\n",
       "  'id': '1589964472654782464',\n",
       "  'author_id': '1575294581398044673'}]"
      ]
     },
     "execution_count": 26,
     "metadata": {},
     "output_type": "execute_result"
    }
   ],
   "source": [
    "json_response['data']"
   ]
  },
  {
   "cell_type": "code",
   "execution_count": 25,
   "metadata": {},
   "outputs": [],
   "source": [
    "df = pd.json_normalize(json_response['data'])\n",
    "df.to_excel(\"twitter_test.xlsx\")"
   ]
  },
  {
   "cell_type": "markdown",
   "metadata": {},
   "source": [
    "# Search User"
   ]
  },
  {
   "cell_type": "code",
   "execution_count": 49,
   "metadata": {},
   "outputs": [],
   "source": [
    "user_id = 1264611341563645952\n",
    "user_url = f\"https://api.twitter.com/2/users/{user_id}\"\n",
    "user_query_params = {'user.fields': 'created_at,location,description,verified'}"
   ]
  },
  {
   "cell_type": "code",
   "execution_count": 50,
   "metadata": {},
   "outputs": [
    {
     "name": "stdout",
     "output_type": "stream",
     "text": [
      "200\n"
     ]
    }
   ],
   "source": [
    "json_response = connect_to_endpoint(user_url, user_query_params)"
   ]
  },
  {
   "cell_type": "code",
   "execution_count": 51,
   "metadata": {},
   "outputs": [
    {
     "data": {
      "text/plain": [
       "{'data': {'verified': False,\n",
       "  'name': 'نیکولاس تسلا',\n",
       "  'id': '1264611341563645952',\n",
       "  'username': '5nYhBSYgj7qAfVd',\n",
       "  'created_at': '2020-05-24T17:37:11.000Z',\n",
       "  'description': ''}}"
      ]
     },
     "execution_count": 51,
     "metadata": {},
     "output_type": "execute_result"
    }
   ],
   "source": [
    "json_response"
   ]
  }
 ],
 "metadata": {
  "kernelspec": {
   "display_name": "Python 3.10.5 64-bit",
   "language": "python",
   "name": "python3"
  },
  "language_info": {
   "codemirror_mode": {
    "name": "ipython",
    "version": 3
   },
   "file_extension": ".py",
   "mimetype": "text/x-python",
   "name": "python",
   "nbconvert_exporter": "python",
   "pygments_lexer": "ipython3",
   "version": "3.10.5"
  },
  "orig_nbformat": 4,
  "vscode": {
   "interpreter": {
    "hash": "26de051ba29f2982a8de78e945f0abaf191376122a1563185a90213a26c5da77"
   }
  }
 },
 "nbformat": 4,
 "nbformat_minor": 2
}
