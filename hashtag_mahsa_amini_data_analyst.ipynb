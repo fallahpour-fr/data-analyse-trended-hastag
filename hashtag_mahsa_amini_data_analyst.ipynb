{
 "cells": [
  {
   "cell_type": "code",
   "execution_count": 2,
   "metadata": {},
   "outputs": [],
   "source": [
    "import pandas as pd\n",
    "import numpy as np\n",
    "import matplotlib.pyplot as plt\n",
    "import seaborn as sns\n",
    "import datetime as dt\n",
    "plt.rcParams[\"figure.figsize\"] = (18,10)"
   ]
  },
  {
   "cell_type": "code",
   "execution_count": 97,
   "metadata": {},
   "outputs": [],
   "source": [
    "df=pd.read_csv('dataset/mahsa_amini_dataset.csv',parse_dates=['created_at','user_created_at'], dayfirst=True)"
   ]
  },
  {
   "cell_type": "code",
   "execution_count": 4,
   "metadata": {},
   "outputs": [
    {
     "data": {
      "text/html": [
       "<div>\n",
       "<style scoped>\n",
       "    .dataframe tbody tr th:only-of-type {\n",
       "        vertical-align: middle;\n",
       "    }\n",
       "\n",
       "    .dataframe tbody tr th {\n",
       "        vertical-align: top;\n",
       "    }\n",
       "\n",
       "    .dataframe thead th {\n",
       "        text-align: right;\n",
       "    }\n",
       "</style>\n",
       "<table border=\"1\" class=\"dataframe\">\n",
       "  <thead>\n",
       "    <tr style=\"text-align: right;\">\n",
       "      <th></th>\n",
       "      <th>created_at</th>\n",
       "      <th>favorite_count</th>\n",
       "      <th>full_text</th>\n",
       "      <th>hashtags_0</th>\n",
       "      <th>hashtags_1</th>\n",
       "      <th>hashtags_2</th>\n",
       "      <th>hashtags_3</th>\n",
       "      <th>id</th>\n",
       "      <th>reply_count</th>\n",
       "      <th>tweet_type</th>\n",
       "      <th>...</th>\n",
       "      <th>lang</th>\n",
       "      <th>url</th>\n",
       "      <th>user_created_at</th>\n",
       "      <th>user_description</th>\n",
       "      <th>user_favourites_count</th>\n",
       "      <th>user_followers_count</th>\n",
       "      <th>user_id</th>\n",
       "      <th>user_listed_count</th>\n",
       "      <th>user_name</th>\n",
       "      <th>user_verified</th>\n",
       "    </tr>\n",
       "  </thead>\n",
       "  <tbody>\n",
       "    <tr>\n",
       "      <th>0</th>\n",
       "      <td>9/19/2022 19:59</td>\n",
       "      <td>0</td>\n",
       "      <td>NaN</td>\n",
       "      <td>NaN</td>\n",
       "      <td>NaN</td>\n",
       "      <td>NaN</td>\n",
       "      <td>NaN</td>\n",
       "      <td>1.57E+18</td>\n",
       "      <td>NaN</td>\n",
       "      <td>retweet</td>\n",
       "      <td>...</td>\n",
       "      <td>en</td>\n",
       "      <td>https://twitter.com/nginv2000/statuses/1572012...</td>\n",
       "      <td>4/3/2020 9:34</td>\n",
       "      <td>NaN</td>\n",
       "      <td>NaN</td>\n",
       "      <td>71</td>\n",
       "      <td>1.25E+18</td>\n",
       "      <td>NaN</td>\n",
       "      <td>nginv2000</td>\n",
       "      <td>NaN</td>\n",
       "    </tr>\n",
       "    <tr>\n",
       "      <th>1</th>\n",
       "      <td>9/19/2022 19:59</td>\n",
       "      <td>0</td>\n",
       "      <td>NaN</td>\n",
       "      <td>NaN</td>\n",
       "      <td>NaN</td>\n",
       "      <td>NaN</td>\n",
       "      <td>NaN</td>\n",
       "      <td>1.57E+18</td>\n",
       "      <td>NaN</td>\n",
       "      <td>retweet</td>\n",
       "      <td>...</td>\n",
       "      <td>fa</td>\n",
       "      <td>https://twitter.com/FeredeIran/statuses/157201...</td>\n",
       "      <td>12/30/2016 17:43</td>\n",
       "      <td>NaN</td>\n",
       "      <td>NaN</td>\n",
       "      <td>144</td>\n",
       "      <td>8.15E+17</td>\n",
       "      <td>NaN</td>\n",
       "      <td>FeredeIran</td>\n",
       "      <td>NaN</td>\n",
       "    </tr>\n",
       "    <tr>\n",
       "      <th>2</th>\n",
       "      <td>9/19/2022 19:59</td>\n",
       "      <td>0</td>\n",
       "      <td>NaN</td>\n",
       "      <td>NaN</td>\n",
       "      <td>NaN</td>\n",
       "      <td>NaN</td>\n",
       "      <td>NaN</td>\n",
       "      <td>1.57E+18</td>\n",
       "      <td>NaN</td>\n",
       "      <td>original</td>\n",
       "      <td>...</td>\n",
       "      <td>fa</td>\n",
       "      <td>https://twitter.com/Rezaei868462582/statuses/1...</td>\n",
       "      <td>9/18/2022 16:12</td>\n",
       "      <td>NaN</td>\n",
       "      <td>NaN</td>\n",
       "      <td>4</td>\n",
       "      <td>1.57E+18</td>\n",
       "      <td>NaN</td>\n",
       "      <td>Rezaei868462582</td>\n",
       "      <td>NaN</td>\n",
       "    </tr>\n",
       "    <tr>\n",
       "      <th>3</th>\n",
       "      <td>9/19/2022 19:59</td>\n",
       "      <td>0</td>\n",
       "      <td>NaN</td>\n",
       "      <td>NaN</td>\n",
       "      <td>NaN</td>\n",
       "      <td>NaN</td>\n",
       "      <td>NaN</td>\n",
       "      <td>1.57E+18</td>\n",
       "      <td>NaN</td>\n",
       "      <td>reply</td>\n",
       "      <td>...</td>\n",
       "      <td>en</td>\n",
       "      <td>https://twitter.com/currlybita/statuses/157201...</td>\n",
       "      <td>7/10/2022 16:54</td>\n",
       "      <td>NaN</td>\n",
       "      <td>NaN</td>\n",
       "      <td>2</td>\n",
       "      <td>1.55E+18</td>\n",
       "      <td>NaN</td>\n",
       "      <td>currlybita</td>\n",
       "      <td>NaN</td>\n",
       "    </tr>\n",
       "    <tr>\n",
       "      <th>4</th>\n",
       "      <td>9/19/2022 19:59</td>\n",
       "      <td>0</td>\n",
       "      <td>NaN</td>\n",
       "      <td>NaN</td>\n",
       "      <td>NaN</td>\n",
       "      <td>NaN</td>\n",
       "      <td>NaN</td>\n",
       "      <td>1.57E+18</td>\n",
       "      <td>NaN</td>\n",
       "      <td>retweet</td>\n",
       "      <td>...</td>\n",
       "      <td>fa</td>\n",
       "      <td>https://twitter.com/sara_littlegirl/statuses/1...</td>\n",
       "      <td>4/20/2013 22:52</td>\n",
       "      <td>NaN</td>\n",
       "      <td>NaN</td>\n",
       "      <td>2279</td>\n",
       "      <td>1368526801</td>\n",
       "      <td>NaN</td>\n",
       "      <td>sara_littlegirl</td>\n",
       "      <td>NaN</td>\n",
       "    </tr>\n",
       "  </tbody>\n",
       "</table>\n",
       "<p>5 rows × 21 columns</p>\n",
       "</div>"
      ],
      "text/plain": [
       "        created_at favorite_count full_text hashtags_0 hashtags_1 hashtags_2  \\\n",
       "0  9/19/2022 19:59              0       NaN        NaN        NaN        NaN   \n",
       "1  9/19/2022 19:59              0       NaN        NaN        NaN        NaN   \n",
       "2  9/19/2022 19:59              0       NaN        NaN        NaN        NaN   \n",
       "3  9/19/2022 19:59              0       NaN        NaN        NaN        NaN   \n",
       "4  9/19/2022 19:59              0       NaN        NaN        NaN        NaN   \n",
       "\n",
       "  hashtags_3        id reply_count tweet_type  ...  lang  \\\n",
       "0        NaN  1.57E+18         NaN    retweet  ...    en   \n",
       "1        NaN  1.57E+18         NaN    retweet  ...    fa   \n",
       "2        NaN  1.57E+18         NaN   original  ...    fa   \n",
       "3        NaN  1.57E+18         NaN      reply  ...    en   \n",
       "4        NaN  1.57E+18         NaN    retweet  ...    fa   \n",
       "\n",
       "                                                 url   user_created_at  \\\n",
       "0  https://twitter.com/nginv2000/statuses/1572012...     4/3/2020 9:34   \n",
       "1  https://twitter.com/FeredeIran/statuses/157201...  12/30/2016 17:43   \n",
       "2  https://twitter.com/Rezaei868462582/statuses/1...   9/18/2022 16:12   \n",
       "3  https://twitter.com/currlybita/statuses/157201...   7/10/2022 16:54   \n",
       "4  https://twitter.com/sara_littlegirl/statuses/1...   4/20/2013 22:52   \n",
       "\n",
       "  user_description user_favourites_count user_followers_count     user_id  \\\n",
       "0              NaN                   NaN                   71    1.25E+18   \n",
       "1              NaN                   NaN                  144    8.15E+17   \n",
       "2              NaN                   NaN                    4    1.57E+18   \n",
       "3              NaN                   NaN                    2    1.55E+18   \n",
       "4              NaN                   NaN                 2279  1368526801   \n",
       "\n",
       "  user_listed_count        user_name user_verified  \n",
       "0               NaN        nginv2000           NaN  \n",
       "1               NaN       FeredeIran           NaN  \n",
       "2               NaN  Rezaei868462582           NaN  \n",
       "3               NaN       currlybita           NaN  \n",
       "4               NaN  sara_littlegirl           NaN  \n",
       "\n",
       "[5 rows x 21 columns]"
      ]
     },
     "execution_count": 4,
     "metadata": {},
     "output_type": "execute_result"
    }
   ],
   "source": [
    "df.head()"
   ]
  },
  {
   "cell_type": "markdown",
   "metadata": {},
   "source": [
    "## EDA"
   ]
  },
  {
   "cell_type": "code",
   "execution_count": 5,
   "metadata": {},
   "outputs": [
    {
     "data": {
      "text/plain": [
       "(array([15156, 15279, 16116, 16167], dtype=int64),)"
      ]
     },
     "execution_count": 5,
     "metadata": {},
     "output_type": "execute_result"
    }
   ],
   "source": [
    "np.where(df['created_at']=='created_at')"
   ]
  },
  {
   "cell_type": "code",
   "execution_count": 6,
   "metadata": {},
   "outputs": [],
   "source": [
    "df=df.drop(df.index[[15156, 15279, 16116, 16167]])"
   ]
  },
  {
   "cell_type": "code",
   "execution_count": 7,
   "metadata": {},
   "outputs": [
    {
     "data": {
      "text/plain": [
       "created_at                   0\n",
       "favorite_count               0\n",
       "full_text                15106\n",
       "hashtags_0               15139\n",
       "hashtags_1               15354\n",
       "hashtags_2               15682\n",
       "hashtags_3               16007\n",
       "id                           0\n",
       "reply_count              15106\n",
       "tweet_type                1108\n",
       "retweeted_user_id         1108\n",
       "lang                      1108\n",
       "url                          0\n",
       "user_created_at              0\n",
       "user_description         15369\n",
       "user_favourites_count    15156\n",
       "user_followers_count         0\n",
       "user_id                      0\n",
       "user_listed_count        15106\n",
       "user_name                   10\n",
       "user_verified            15099\n",
       "dtype: int64"
      ]
     },
     "execution_count": 7,
     "metadata": {},
     "output_type": "execute_result"
    }
   ],
   "source": [
    "df.isnull().sum()"
   ]
  },
  {
   "cell_type": "code",
   "execution_count": 8,
   "metadata": {},
   "outputs": [
    {
     "data": {
      "text/plain": [
       "Index(['created_at', 'favorite_count', 'full_text', 'hashtags_0', 'hashtags_1',\n",
       "       'hashtags_2', 'hashtags_3', 'id', 'reply_count', 'tweet_type',\n",
       "       'retweeted_user_id', 'lang', 'url', 'user_created_at',\n",
       "       'user_description', 'user_favourites_count', 'user_followers_count',\n",
       "       'user_id', 'user_listed_count', 'user_name', 'user_verified'],\n",
       "      dtype='object')"
      ]
     },
     "execution_count": 8,
     "metadata": {},
     "output_type": "execute_result"
    }
   ],
   "source": [
    "df.columns"
   ]
  },
  {
   "cell_type": "code",
   "execution_count": 9,
   "metadata": {},
   "outputs": [],
   "source": [
    "df=df[['created_at', 'favorite_count', 'hashtags_0', 'hashtags_1',\n",
    "       'hashtags_2', 'hashtags_3', 'id', 'reply_count', 'tweet_type',\n",
    "       'retweeted_user_id', 'lang','user_created_at',\n",
    "       'user_description', 'user_favourites_count', 'user_followers_count',\n",
    "       'user_id', 'user_listed_count', 'user_name', 'user_verified']]"
   ]
  },
  {
   "cell_type": "code",
   "execution_count": 10,
   "metadata": {},
   "outputs": [
    {
     "data": {
      "text/html": [
       "<div>\n",
       "<style scoped>\n",
       "    .dataframe tbody tr th:only-of-type {\n",
       "        vertical-align: middle;\n",
       "    }\n",
       "\n",
       "    .dataframe tbody tr th {\n",
       "        vertical-align: top;\n",
       "    }\n",
       "\n",
       "    .dataframe thead th {\n",
       "        text-align: right;\n",
       "    }\n",
       "</style>\n",
       "<table border=\"1\" class=\"dataframe\">\n",
       "  <thead>\n",
       "    <tr style=\"text-align: right;\">\n",
       "      <th></th>\n",
       "      <th>created_at</th>\n",
       "      <th>favorite_count</th>\n",
       "      <th>hashtags_0</th>\n",
       "      <th>hashtags_1</th>\n",
       "      <th>hashtags_2</th>\n",
       "      <th>hashtags_3</th>\n",
       "      <th>id</th>\n",
       "      <th>reply_count</th>\n",
       "      <th>tweet_type</th>\n",
       "      <th>retweeted_user_id</th>\n",
       "      <th>lang</th>\n",
       "      <th>user_created_at</th>\n",
       "      <th>user_description</th>\n",
       "      <th>user_favourites_count</th>\n",
       "      <th>user_followers_count</th>\n",
       "      <th>user_id</th>\n",
       "      <th>user_listed_count</th>\n",
       "      <th>user_name</th>\n",
       "      <th>user_verified</th>\n",
       "    </tr>\n",
       "  </thead>\n",
       "  <tbody>\n",
       "    <tr>\n",
       "      <th>0</th>\n",
       "      <td>9/19/2022 19:59</td>\n",
       "      <td>0</td>\n",
       "      <td>NaN</td>\n",
       "      <td>NaN</td>\n",
       "      <td>NaN</td>\n",
       "      <td>NaN</td>\n",
       "      <td>1.57E+18</td>\n",
       "      <td>NaN</td>\n",
       "      <td>retweet</td>\n",
       "      <td>1.420000e+18</td>\n",
       "      <td>en</td>\n",
       "      <td>4/3/2020 9:34</td>\n",
       "      <td>NaN</td>\n",
       "      <td>NaN</td>\n",
       "      <td>71</td>\n",
       "      <td>1.25E+18</td>\n",
       "      <td>NaN</td>\n",
       "      <td>nginv2000</td>\n",
       "      <td>NaN</td>\n",
       "    </tr>\n",
       "    <tr>\n",
       "      <th>1</th>\n",
       "      <td>9/19/2022 19:59</td>\n",
       "      <td>0</td>\n",
       "      <td>NaN</td>\n",
       "      <td>NaN</td>\n",
       "      <td>NaN</td>\n",
       "      <td>NaN</td>\n",
       "      <td>1.57E+18</td>\n",
       "      <td>NaN</td>\n",
       "      <td>retweet</td>\n",
       "      <td>1.220000e+18</td>\n",
       "      <td>fa</td>\n",
       "      <td>12/30/2016 17:43</td>\n",
       "      <td>NaN</td>\n",
       "      <td>NaN</td>\n",
       "      <td>144</td>\n",
       "      <td>8.15E+17</td>\n",
       "      <td>NaN</td>\n",
       "      <td>FeredeIran</td>\n",
       "      <td>NaN</td>\n",
       "    </tr>\n",
       "    <tr>\n",
       "      <th>2</th>\n",
       "      <td>9/19/2022 19:59</td>\n",
       "      <td>0</td>\n",
       "      <td>NaN</td>\n",
       "      <td>NaN</td>\n",
       "      <td>NaN</td>\n",
       "      <td>NaN</td>\n",
       "      <td>1.57E+18</td>\n",
       "      <td>NaN</td>\n",
       "      <td>original</td>\n",
       "      <td>0.000000e+00</td>\n",
       "      <td>fa</td>\n",
       "      <td>9/18/2022 16:12</td>\n",
       "      <td>NaN</td>\n",
       "      <td>NaN</td>\n",
       "      <td>4</td>\n",
       "      <td>1.57E+18</td>\n",
       "      <td>NaN</td>\n",
       "      <td>Rezaei868462582</td>\n",
       "      <td>NaN</td>\n",
       "    </tr>\n",
       "    <tr>\n",
       "      <th>3</th>\n",
       "      <td>9/19/2022 19:59</td>\n",
       "      <td>0</td>\n",
       "      <td>NaN</td>\n",
       "      <td>NaN</td>\n",
       "      <td>NaN</td>\n",
       "      <td>NaN</td>\n",
       "      <td>1.57E+18</td>\n",
       "      <td>NaN</td>\n",
       "      <td>reply</td>\n",
       "      <td>0.000000e+00</td>\n",
       "      <td>en</td>\n",
       "      <td>7/10/2022 16:54</td>\n",
       "      <td>NaN</td>\n",
       "      <td>NaN</td>\n",
       "      <td>2</td>\n",
       "      <td>1.55E+18</td>\n",
       "      <td>NaN</td>\n",
       "      <td>currlybita</td>\n",
       "      <td>NaN</td>\n",
       "    </tr>\n",
       "    <tr>\n",
       "      <th>4</th>\n",
       "      <td>9/19/2022 19:59</td>\n",
       "      <td>0</td>\n",
       "      <td>NaN</td>\n",
       "      <td>NaN</td>\n",
       "      <td>NaN</td>\n",
       "      <td>NaN</td>\n",
       "      <td>1.57E+18</td>\n",
       "      <td>NaN</td>\n",
       "      <td>retweet</td>\n",
       "      <td>1.220000e+18</td>\n",
       "      <td>fa</td>\n",
       "      <td>4/20/2013 22:52</td>\n",
       "      <td>NaN</td>\n",
       "      <td>NaN</td>\n",
       "      <td>2279</td>\n",
       "      <td>1368526801</td>\n",
       "      <td>NaN</td>\n",
       "      <td>sara_littlegirl</td>\n",
       "      <td>NaN</td>\n",
       "    </tr>\n",
       "  </tbody>\n",
       "</table>\n",
       "</div>"
      ],
      "text/plain": [
       "        created_at favorite_count hashtags_0 hashtags_1 hashtags_2 hashtags_3  \\\n",
       "0  9/19/2022 19:59              0        NaN        NaN        NaN        NaN   \n",
       "1  9/19/2022 19:59              0        NaN        NaN        NaN        NaN   \n",
       "2  9/19/2022 19:59              0        NaN        NaN        NaN        NaN   \n",
       "3  9/19/2022 19:59              0        NaN        NaN        NaN        NaN   \n",
       "4  9/19/2022 19:59              0        NaN        NaN        NaN        NaN   \n",
       "\n",
       "         id reply_count tweet_type  retweeted_user_id lang   user_created_at  \\\n",
       "0  1.57E+18         NaN    retweet       1.420000e+18   en     4/3/2020 9:34   \n",
       "1  1.57E+18         NaN    retweet       1.220000e+18   fa  12/30/2016 17:43   \n",
       "2  1.57E+18         NaN   original       0.000000e+00   fa   9/18/2022 16:12   \n",
       "3  1.57E+18         NaN      reply       0.000000e+00   en   7/10/2022 16:54   \n",
       "4  1.57E+18         NaN    retweet       1.220000e+18   fa   4/20/2013 22:52   \n",
       "\n",
       "  user_description user_favourites_count user_followers_count     user_id  \\\n",
       "0              NaN                   NaN                   71    1.25E+18   \n",
       "1              NaN                   NaN                  144    8.15E+17   \n",
       "2              NaN                   NaN                    4    1.57E+18   \n",
       "3              NaN                   NaN                    2    1.55E+18   \n",
       "4              NaN                   NaN                 2279  1368526801   \n",
       "\n",
       "  user_listed_count        user_name user_verified  \n",
       "0               NaN        nginv2000           NaN  \n",
       "1               NaN       FeredeIran           NaN  \n",
       "2               NaN  Rezaei868462582           NaN  \n",
       "3               NaN       currlybita           NaN  \n",
       "4               NaN  sara_littlegirl           NaN  "
      ]
     },
     "execution_count": 10,
     "metadata": {},
     "output_type": "execute_result"
    }
   ],
   "source": [
    "df.head()"
   ]
  },
  {
   "cell_type": "code",
   "execution_count": 11,
   "metadata": {},
   "outputs": [],
   "source": [
    "df.fillna({'hashtags_0':'Mahsa_Amini', 'hashtags_1': 'Mahsa_Amini','hashtags_2':'Mahsa_Amini','hashtags_3':'Mahsa_Amini'}, inplace=True)"
   ]
  },
  {
   "cell_type": "code",
   "execution_count": 12,
   "metadata": {},
   "outputs": [],
   "source": [
    "df.fillna({'reply_count':0,'favorite_count':0 ,'user_description': 'unknown','user_favourites_count':0,'user_followers_count':0,'user_listed_count':0}, inplace=True)"
   ]
  },
  {
   "cell_type": "code",
   "execution_count": 13,
   "metadata": {},
   "outputs": [
    {
     "data": {
      "text/plain": [
       "created_at                   0\n",
       "favorite_count               0\n",
       "hashtags_0                   0\n",
       "hashtags_1                   0\n",
       "hashtags_2                   0\n",
       "hashtags_3                   0\n",
       "id                           0\n",
       "reply_count                  0\n",
       "tweet_type                1108\n",
       "retweeted_user_id         1108\n",
       "lang                      1108\n",
       "user_created_at              0\n",
       "user_description             0\n",
       "user_favourites_count        0\n",
       "user_followers_count         0\n",
       "user_id                      0\n",
       "user_listed_count            0\n",
       "user_name                   10\n",
       "user_verified            15099\n",
       "dtype: int64"
      ]
     },
     "execution_count": 13,
     "metadata": {},
     "output_type": "execute_result"
    }
   ],
   "source": [
    "df.isnull().sum()"
   ]
  },
  {
   "cell_type": "markdown",
   "metadata": {},
   "source": [
    "## How many of user account is verified"
   ]
  },
  {
   "cell_type": "code",
   "execution_count": 15,
   "metadata": {},
   "outputs": [],
   "source": [
    "sorted_df_verifide_account=df.sort_values(['user_id','user_verified']).drop_duplicates('user_id',keep='last')"
   ]
  },
  {
   "cell_type": "code",
   "execution_count": 16,
   "metadata": {},
   "outputs": [
    {
     "data": {
      "text/plain": [
       "FALSE    115\n",
       "TRUE      43\n",
       "1          5\n",
       "Name: user_verified, dtype: int64"
      ]
     },
     "execution_count": 16,
     "metadata": {},
     "output_type": "execute_result"
    }
   ],
   "source": [
    "new_verifide_account=sorted_df_verifide_account.dropna(subset=['user_verified'])['user_verified']\n",
    "new_verifide_account.value_counts(dropna=False)"
   ]
  },
  {
   "cell_type": "code",
   "execution_count": 17,
   "metadata": {},
   "outputs": [
    {
     "data": {
      "text/plain": [
       "0    115\n",
       "1     48\n",
       "Name: user_verified, dtype: int64"
      ]
     },
     "execution_count": 17,
     "metadata": {},
     "output_type": "execute_result"
    }
   ],
   "source": [
    "new_verifide_account=new_verifide_account.replace(['FALSE','TRUE','1'],[0,1,1])\n",
    "new_verifide_account=new_verifide_account.value_counts()\n",
    "new_verifide_account"
   ]
  },
  {
   "cell_type": "code",
   "execution_count": 18,
   "metadata": {},
   "outputs": [
    {
     "data": {
      "text/plain": [
       "<BarContainer object of 2 artists>"
      ]
     },
     "execution_count": 18,
     "metadata": {},
     "output_type": "execute_result"
    },
    {
     "data": {
      "image/png": "[encoded data removed]",
      "text/plain": [
       "<Figure size 640x480 with 1 Axes>"
      ]
     },
     "metadata": {},
     "output_type": "display_data"
    }
   ],
   "source": [
    "plt.bar(new_verifide_account.index,new_verifide_account.values)"
   ]
  },
  {
   "cell_type": "markdown",
   "metadata": {},
   "source": [
    "## Find male or female"
   ]
  },
  {
   "cell_type": "code",
   "execution_count": 19,
   "metadata": {},
   "outputs": [
    {
     "name": "stdout",
     "output_type": "stream",
     "text": [
      "Requirement already satisfied: names-dataset in d:\\personal-projects\\ml\\open-ai-projects\\tapsell\\env\\lib\\site-packages (3.1.0)\n",
      "Requirement already satisfied: pycountry in d:\\personal-projects\\ml\\open-ai-projects\\tapsell\\env\\lib\\site-packages (from names-dataset) (22.3.5)\n",
      "Requirement already satisfied: setuptools in d:\\personal-projects\\ml\\open-ai-projects\\tapsell\\env\\lib\\site-packages (from pycountry->names-dataset) (63.4.1)\n",
      "\n",
      "[notice] A new release of pip available: 22.1.2 -> 22.3\n",
      "[notice] To update, run: python.exe -m pip install --upgrade pip\n",
      "Note: you may need to restart the kernel to use updated packages.\n"
     ]
    }
   ],
   "source": [
    "%pip install names-dataset"
   ]
  },
  {
   "cell_type": "code",
   "execution_count": 20,
   "metadata": {},
   "outputs": [],
   "source": [
    "from names_dataset import NameDataset, NameWrapper\n",
    "nd = NameDataset()"
   ]
  },
  {
   "cell_type": "code",
   "execution_count": 21,
   "metadata": {},
   "outputs": [
    {
     "name": "stdout",
     "output_type": "stream",
     "text": [
      "Female, Iran, Islamic Republic of\n"
     ]
    }
   ],
   "source": [
    "print(NameWrapper(nd.search('fatemeh')).describe)"
   ]
  },
  {
   "cell_type": "code",
   "execution_count": 22,
   "metadata": {},
   "outputs": [],
   "source": [
    "user_name=df['user_name'].dropna()"
   ]
  },
  {
   "cell_type": "code",
   "execution_count": 23,
   "metadata": {},
   "outputs": [],
   "source": [
    "def genderIdentifier(name):\n",
    "    arr=[' Iraq',' Saudi Arabia',' Iran']\n",
    "    m = 0\n",
    "    f = 0\n",
    "    if(isinstance(name, str)):\n",
    "        \n",
    "        for i in range(1,len(name)+1):\n",
    "            for j in range(i+1,len(name)+1):\n",
    "                 x = NameWrapper(nd.search(name[int(i):int(j)])).describe\n",
    "                 country=x.split(',')[1]\n",
    "                 gender=x.split(',')[0]\n",
    "                 if country in arr:\n",
    "                    if \"Male\" in gender:\n",
    "                        m = m+1\n",
    "                    if \"Female\" in gender:\n",
    "                         f = f+1\n",
    "        if m>f:\n",
    "            g = \"male\"\n",
    "        elif m<f:\n",
    "            g = \"female\"\n",
    "        else :\n",
    "            g = \"unknown\"\n",
    "        return g \n",
    "    else:\n",
    "        return 'unknown'                "
   ]
  },
  {
   "cell_type": "code",
   "execution_count": 24,
   "metadata": {},
   "outputs": [],
   "source": [
    "df['gender']=df['user_name'].apply(lambda x: genderIdentifier(x) )"
   ]
  },
  {
   "cell_type": "code",
   "execution_count": 25,
   "metadata": {},
   "outputs": [
    {
     "data": {
      "text/plain": [
       "array(['unknown', 'female', 'male'], dtype=object)"
      ]
     },
     "execution_count": 25,
     "metadata": {},
     "output_type": "execute_result"
    }
   ],
   "source": [
    "df['gender'].unique()"
   ]
  },
  {
   "cell_type": "code",
   "execution_count": 26,
   "metadata": {},
   "outputs": [],
   "source": [
    "sorted_df=df.sort_values(['user_id','gender']).drop_duplicates('user_id',keep='last')\n",
    "sorted=sorted_df['gender'].dropna()\n",
    "sorted=sorted[(sorted=='male')|(sorted=='female')]\n",
    "gender_user=sorted.value_counts()"
   ]
  },
  {
   "cell_type": "code",
   "execution_count": 27,
   "metadata": {},
   "outputs": [
    {
     "data": {
      "text/plain": [
       "<BarContainer object of 2 artists>"
      ]
     },
     "execution_count": 27,
     "metadata": {},
     "output_type": "execute_result"
    },
    {
     "data": {
      "image/png": "[encoded data removed]",
      "text/plain": [
       "<Figure size 640x480 with 1 Axes>"
      ]
     },
     "metadata": {},
     "output_type": "display_data"
    }
   ],
   "source": [
    "plt.bar(gender_user.index,gender_user.values)"
   ]
  },
  {
   "cell_type": "markdown",
   "metadata": {},
   "source": [
    "## How many of people join twiter diuring this time"
   ]
  },
  {
   "cell_type": "code",
   "execution_count": 28,
   "metadata": {},
   "outputs": [
    {
     "data": {
      "text/plain": [
       "Index(['created_at', 'favorite_count', 'hashtags_0', 'hashtags_1',\n",
       "       'hashtags_2', 'hashtags_3', 'id', 'reply_count', 'tweet_type',\n",
       "       'retweeted_user_id', 'lang', 'user_created_at', 'user_description',\n",
       "       'user_favourites_count', 'user_followers_count', 'user_id',\n",
       "       'user_listed_count', 'user_name', 'user_verified', 'gender'],\n",
       "      dtype='object')"
      ]
     },
     "execution_count": 28,
     "metadata": {},
     "output_type": "execute_result"
    }
   ],
   "source": [
    "df.columns"
   ]
  },
  {
   "cell_type": "code",
   "execution_count": 29,
   "metadata": {},
   "outputs": [
    {
     "data": {
      "text/html": [
       "<div>\n",
       "<style scoped>\n",
       "    .dataframe tbody tr th:only-of-type {\n",
       "        vertical-align: middle;\n",
       "    }\n",
       "\n",
       "    .dataframe tbody tr th {\n",
       "        vertical-align: top;\n",
       "    }\n",
       "\n",
       "    .dataframe thead th {\n",
       "        text-align: right;\n",
       "    }\n",
       "</style>\n",
       "<table border=\"1\" class=\"dataframe\">\n",
       "  <thead>\n",
       "    <tr style=\"text-align: right;\">\n",
       "      <th></th>\n",
       "      <th>created_at</th>\n",
       "      <th>user_created_at</th>\n",
       "    </tr>\n",
       "  </thead>\n",
       "  <tbody>\n",
       "    <tr>\n",
       "      <th>0</th>\n",
       "      <td>9/19/2022 19:59</td>\n",
       "      <td>4/3/2020 9:34</td>\n",
       "    </tr>\n",
       "    <tr>\n",
       "      <th>1</th>\n",
       "      <td>9/19/2022 19:59</td>\n",
       "      <td>12/30/2016 17:43</td>\n",
       "    </tr>\n",
       "    <tr>\n",
       "      <th>2</th>\n",
       "      <td>9/19/2022 19:59</td>\n",
       "      <td>9/18/2022 16:12</td>\n",
       "    </tr>\n",
       "    <tr>\n",
       "      <th>3</th>\n",
       "      <td>9/19/2022 19:59</td>\n",
       "      <td>7/10/2022 16:54</td>\n",
       "    </tr>\n",
       "    <tr>\n",
       "      <th>4</th>\n",
       "      <td>9/19/2022 19:59</td>\n",
       "      <td>4/20/2013 22:52</td>\n",
       "    </tr>\n",
       "    <tr>\n",
       "      <th>...</th>\n",
       "      <td>...</td>\n",
       "      <td>...</td>\n",
       "    </tr>\n",
       "    <tr>\n",
       "      <th>16213</th>\n",
       "      <td>2022-09-23T23:59:49.000Z</td>\n",
       "      <td>2020-05-12T22:23:31.000Z</td>\n",
       "    </tr>\n",
       "    <tr>\n",
       "      <th>16214</th>\n",
       "      <td>2022-09-23T23:59:45.000Z</td>\n",
       "      <td>2013-02-18T09:32:07.000Z</td>\n",
       "    </tr>\n",
       "    <tr>\n",
       "      <th>16215</th>\n",
       "      <td>2022-09-23T23:59:46.000Z</td>\n",
       "      <td>2018-07-27T16:24:15.000Z</td>\n",
       "    </tr>\n",
       "    <tr>\n",
       "      <th>16216</th>\n",
       "      <td>2022-09-23T23:59:45.000Z</td>\n",
       "      <td>2020-04-03T19:47:30.000Z</td>\n",
       "    </tr>\n",
       "    <tr>\n",
       "      <th>16217</th>\n",
       "      <td>2022-09-23T23:59:47.000Z</td>\n",
       "      <td>2014-05-17T12:05:37.000Z</td>\n",
       "    </tr>\n",
       "  </tbody>\n",
       "</table>\n",
       "<p>16214 rows × 2 columns</p>\n",
       "</div>"
      ],
      "text/plain": [
       "                     created_at           user_created_at\n",
       "0               9/19/2022 19:59             4/3/2020 9:34\n",
       "1               9/19/2022 19:59          12/30/2016 17:43\n",
       "2               9/19/2022 19:59           9/18/2022 16:12\n",
       "3               9/19/2022 19:59           7/10/2022 16:54\n",
       "4               9/19/2022 19:59           4/20/2013 22:52\n",
       "...                         ...                       ...\n",
       "16213  2022-09-23T23:59:49.000Z  2020-05-12T22:23:31.000Z\n",
       "16214  2022-09-23T23:59:45.000Z  2013-02-18T09:32:07.000Z\n",
       "16215  2022-09-23T23:59:46.000Z  2018-07-27T16:24:15.000Z\n",
       "16216  2022-09-23T23:59:45.000Z  2020-04-03T19:47:30.000Z\n",
       "16217  2022-09-23T23:59:47.000Z  2014-05-17T12:05:37.000Z\n",
       "\n",
       "[16214 rows x 2 columns]"
      ]
     },
     "execution_count": 29,
     "metadata": {},
     "output_type": "execute_result"
    }
   ],
   "source": [
    "df[['created_at','user_created_at']]"
   ]
  },
  {
   "cell_type": "code",
   "execution_count": 30,
   "metadata": {},
   "outputs": [
    {
     "data": {
      "text/plain": [
       "datetime.datetime(2022, 9, 23, 23, 59, 47)"
      ]
     },
     "execution_count": 30,
     "metadata": {},
     "output_type": "execute_result"
    }
   ],
   "source": [
    "dt.datetime.strptime('2022-09-23T23:59:47.000Z', \"%Y-%m-%dT%H:%M:%S.%fZ\")"
   ]
  },
  {
   "cell_type": "code",
   "execution_count": 31,
   "metadata": {},
   "outputs": [],
   "source": [
    "def post_datetime(x):\n",
    "    indx=np.where(df['created_at']==x)[0][0]\n",
    "    if (indx>=15106):\n",
    "      return dt.datetime.strptime(x, \"%Y-%m-%dT%H:%M:%S.%fZ\")\n",
    "    if(indx<15106):\n",
    "       return dt.datetime.strptime(x, '%m/%d/%Y %H:%M') \n",
    "df['created_at']=df['created_at'].apply(lambda x:post_datetime(x))"
   ]
  },
  {
   "cell_type": "code",
   "execution_count": 32,
   "metadata": {},
   "outputs": [],
   "source": [
    "def user_signup_dtaetime(x):\n",
    "    indx=np.where(df['user_created_at']==x)[0][0]\n",
    "    if (indx>=15106):\n",
    "      return dt.datetime.strptime(x, \"%Y-%m-%dT%H:%M:%S.%fZ\")\n",
    "    if(indx<15106):\n",
    "       return dt.datetime.strptime(x, '%m/%d/%Y %H:%M') \n",
    "df['user_created_at']=df['user_created_at'].apply(lambda x:user_signup_dtaetime(x))"
   ]
  },
  {
   "cell_type": "code",
   "execution_count": 33,
   "metadata": {},
   "outputs": [],
   "source": [
    "mask=(df['user_created_at']>'2022-07-1') & (df['user_created_at']<'2022-10-1')"
   ]
  },
  {
   "cell_type": "code",
   "execution_count": 34,
   "metadata": {},
   "outputs": [],
   "source": [
    "df_=df.loc[mask]"
   ]
  },
  {
   "cell_type": "code",
   "execution_count": 35,
   "metadata": {},
   "outputs": [
    {
     "data": {
      "text/plain": [
       "17.3"
      ]
     },
     "execution_count": 35,
     "metadata": {},
     "output_type": "execute_result"
    }
   ],
   "source": [
    "percentage_signup=round((df_.shape[0])/(df.shape[0])*100 ,2)\n",
    "percentage_signup"
   ]
  },
  {
   "cell_type": "markdown",
   "metadata": {},
   "source": [
    "#### accourding to the above result 17.3% of people sign up to twiter after increase amount of tweets with Mahsa Amini hashtag "
   ]
  },
  {
   "cell_type": "markdown",
   "metadata": {},
   "source": [
    "# Focuse on jurnalist postes"
   ]
  },
  {
   "cell_type": "code",
   "execution_count": 36,
   "metadata": {},
   "outputs": [],
   "source": [
    "def find_jurnalist(x):\n",
    "    if (type(x) is str ):\n",
    "        arr=x.split()\n",
    "        for i in arr:\n",
    "            if(i=='Journalist'):\n",
    "               return 'Journalist' \n",
    "    else:\n",
    "        return x           \n",
    "\n",
    "df['user_journalist']=df['user_description'].apply(lambda x: find_jurnalist(x))"
   ]
  },
  {
   "cell_type": "code",
   "execution_count": 37,
   "metadata": {},
   "outputs": [
    {
     "data": {
      "text/plain": [
       "Journalist    29\n",
       "Name: user_journalist, dtype: int64"
      ]
     },
     "execution_count": 37,
     "metadata": {},
     "output_type": "execute_result"
    }
   ],
   "source": [
    "df['user_journalist'].value_counts()"
   ]
  },
  {
   "cell_type": "code",
   "execution_count": 39,
   "metadata": {},
   "outputs": [],
   "source": [
    "def get_month(x):\n",
    "    return dt.datetime(x.year, x.month, x.day) "
   ]
  },
  {
   "cell_type": "code",
   "execution_count": 40,
   "metadata": {},
   "outputs": [],
   "source": [
    "df['new_created_at']=df['created_at'].apply(get_month)"
   ]
  },
  {
   "cell_type": "code",
   "execution_count": 41,
   "metadata": {},
   "outputs": [],
   "source": [
    "sorted_bytime_df=df.sort_values(['new_created_at'])"
   ]
  },
  {
   "cell_type": "code",
   "execution_count": 42,
   "metadata": {},
   "outputs": [
    {
     "data": {
      "text/plain": [
       "['2022-09-19', '2022-09-29', '2022-10-08', '2022-10-18', '2022-10-27']"
      ]
     },
     "execution_count": 42,
     "metadata": {},
     "output_type": "execute_result"
    }
   ],
   "source": [
    "test_date1 = df['created_at'].min()\n",
    "test_date2 = df['created_at'].max()\n",
    "N = 4\n",
    "temp = []\n",
    "diff = ( test_date2 - test_date1) // N\n",
    "for idx in range(0, N+1):\n",
    "    \n",
    "    temp.append((test_date1 + idx * diff))\n",
    "\n",
    "res=[]\n",
    "for sub in temp:\n",
    "    res.append(sub.strftime(\"%Y-%m-%d\"))  \n",
    "res     "
   ]
  },
  {
   "cell_type": "code",
   "execution_count": 43,
   "metadata": {},
   "outputs": [],
   "source": [
    "df_for_time={'time':[],\n",
    "'Journalist':[],\n",
    "'other':[]\n",
    "}"
   ]
  },
  {
   "cell_type": "code",
   "execution_count": 44,
   "metadata": {},
   "outputs": [],
   "source": [
    "for idx, x in enumerate(res):   \n",
    "    if((idx+1)<len(res)):\n",
    "        mask=(df['created_at']>res[idx]) & (df['created_at']<res[idx+1])\n",
    "        df_for_time['time'].append(f'{res[idx]} to {res[idx+1]}')\n",
    "        dfm=df.loc[mask]\n",
    "        number_of_journalists=dfm[dfm['user_journalist']=='Journalist'].shape[0]\n",
    "        number_of_other=dfm[dfm['user_journalist']!='Journalist'].shape[0]\n",
    "        df_for_time['Journalist'].append(number_of_journalists)\n",
    "        df_for_time['other'].append(number_of_other)\n"
   ]
  },
  {
   "cell_type": "code",
   "execution_count": 45,
   "metadata": {},
   "outputs": [
    {
     "data": {
      "text/html": [
       "<div>\n",
       "<style scoped>\n",
       "    .dataframe tbody tr th:only-of-type {\n",
       "        vertical-align: middle;\n",
       "    }\n",
       "\n",
       "    .dataframe tbody tr th {\n",
       "        vertical-align: top;\n",
       "    }\n",
       "\n",
       "    .dataframe thead th {\n",
       "        text-align: right;\n",
       "    }\n",
       "</style>\n",
       "<table border=\"1\" class=\"dataframe\">\n",
       "  <thead>\n",
       "    <tr style=\"text-align: right;\">\n",
       "      <th></th>\n",
       "      <th>time</th>\n",
       "      <th>Journalist</th>\n",
       "      <th>other</th>\n",
       "    </tr>\n",
       "  </thead>\n",
       "  <tbody>\n",
       "    <tr>\n",
       "      <th>0</th>\n",
       "      <td>2022-09-19 to 2022-09-29</td>\n",
       "      <td>0</td>\n",
       "      <td>15256</td>\n",
       "    </tr>\n",
       "    <tr>\n",
       "      <th>1</th>\n",
       "      <td>2022-09-29 to 2022-10-08</td>\n",
       "      <td>0</td>\n",
       "      <td>51</td>\n",
       "    </tr>\n",
       "    <tr>\n",
       "      <th>2</th>\n",
       "      <td>2022-10-08 to 2022-10-18</td>\n",
       "      <td>0</td>\n",
       "      <td>0</td>\n",
       "    </tr>\n",
       "    <tr>\n",
       "      <th>3</th>\n",
       "      <td>2022-10-18 to 2022-10-27</td>\n",
       "      <td>21</td>\n",
       "      <td>876</td>\n",
       "    </tr>\n",
       "  </tbody>\n",
       "</table>\n",
       "</div>"
      ],
      "text/plain": [
       "                       time  Journalist  other\n",
       "0  2022-09-19 to 2022-09-29           0  15256\n",
       "1  2022-09-29 to 2022-10-08           0     51\n",
       "2  2022-10-08 to 2022-10-18           0      0\n",
       "3  2022-10-18 to 2022-10-27          21    876"
      ]
     },
     "execution_count": 45,
     "metadata": {},
     "output_type": "execute_result"
    }
   ],
   "source": [
    "dfn=pd.DataFrame(data=df_for_time)\n",
    "dfn"
   ]
  },
  {
   "cell_type": "code",
   "execution_count": 46,
   "metadata": {},
   "outputs": [
    {
     "data": {
      "text/plain": [
       "Text(0.5, 1.0, 'Number of journalist vs. other')"
      ]
     },
     "execution_count": 46,
     "metadata": {},
     "output_type": "execute_result"
    },
    {
     "data": {
      "image/png": "[encoded data removed]",
      "text/plain": [
       "<Figure size 640x480 with 1 Axes>"
      ]
     },
     "metadata": {},
     "output_type": "display_data"
    }
   ],
   "source": [
    "plt.pie([dfn['Journalist'].sum(), dfn['other'].sum()], \n",
    "        labels=['Journalist', 'other'],\n",
    "        explode = [0, 0.2],\n",
    "        autopct='%1.1f%%')\n",
    "\n",
    "plt.legend()\n",
    "plt.title(\"Number of journalist vs. other\")"
   ]
  },
  {
   "cell_type": "code",
   "execution_count": 47,
   "metadata": {},
   "outputs": [
    {
     "data": {
      "text/plain": [
       "Text(0, 0.5, 'Count')"
      ]
     },
     "execution_count": 47,
     "metadata": {},
     "output_type": "execute_result"
    },
    {
     "data": {
      "image/png": "[encoded data removed]",
      "text/plain": [
       "<Figure size 640x480 with 1 Axes>"
      ]
     },
     "metadata": {},
     "output_type": "display_data"
    }
   ],
   "source": [
    "dfn.plot(x=\"time\", y=\"other\", kind=\"line\")\n",
    "plt.title(\"Number of twittes by ordinary users\")\n",
    "plt.ylabel(\"Count\")"
   ]
  },
  {
   "cell_type": "code",
   "execution_count": 48,
   "metadata": {},
   "outputs": [
    {
     "data": {
      "text/plain": [
       "Text(0, 0.5, 'Count')"
      ]
     },
     "execution_count": 48,
     "metadata": {},
     "output_type": "execute_result"
    },
    {
     "data": {
      "image/png": "[encoded data removed]",
      "text/plain": [
       "<Figure size 640x480 with 1 Axes>"
      ]
     },
     "metadata": {},
     "output_type": "display_data"
    }
   ],
   "source": [
    "dfn.plot(x=\"time\", y=\"Journalist\", kind=\"line\",color=\"maroon\")\n",
    "plt.title(\"Number of twittes by juornalists\")\n",
    "plt.ylabel(\"Count\")"
   ]
  },
  {
   "cell_type": "markdown",
   "metadata": {},
   "source": [
    "## Compare languege of tweets"
   ]
  },
  {
   "cell_type": "code",
   "execution_count": 50,
   "metadata": {},
   "outputs": [],
   "source": [
    "lang=df['lang'].dropna()\n",
    "lang_=lang.value_counts()"
   ]
  },
  {
   "cell_type": "code",
   "execution_count": 51,
   "metadata": {},
   "outputs": [
    {
     "data": {
      "text/plain": [
       "Text(0, 0.5, 'Count')"
      ]
     },
     "execution_count": 51,
     "metadata": {},
     "output_type": "execute_result"
    },
    {
     "data": {
      "image/png": "[encoded data removed]",
      "text/plain": [
       "<Figure size 640x480 with 1 Axes>"
      ]
     },
     "metadata": {},
     "output_type": "display_data"
    }
   ],
   "source": [
    "plt.bar(lang_.index,lang_.values,width = 1.5)\n",
    "plt.title(\"Number of twitte were written by each langueages\")\n",
    "plt.xlabel(\"Langueage\")\n",
    "plt.ylabel(\"Count\")"
   ]
  },
  {
   "cell_type": "markdown",
   "metadata": {},
   "source": [
    "## Coralation between hashtag"
   ]
  },
  {
   "cell_type": "code",
   "execution_count": 72,
   "metadata": {},
   "outputs": [],
   "source": [
    "df_hashtag=df[['user_id','hashtags_0', 'hashtags_1','hashtags_2', 'hashtags_3']]"
   ]
  },
  {
   "cell_type": "code",
   "execution_count": 73,
   "metadata": {},
   "outputs": [
    {
     "data": {
      "text/plain": [
       "Index(['created_at', 'favorite_count', 'hashtags_0', 'hashtags_1',\n",
       "       'hashtags_2', 'hashtags_3', 'id', 'reply_count', 'tweet_type',\n",
       "       'retweeted_user_id', 'lang', 'user_created_at', 'user_description',\n",
       "       'user_favourites_count', 'user_followers_count', 'user_id',\n",
       "       'user_listed_count', 'user_name', 'user_verified', 'gender',\n",
       "       'user_journalist', 'new_created_at'],\n",
       "      dtype='object')"
      ]
     },
     "execution_count": 73,
     "metadata": {},
     "output_type": "execute_result"
    }
   ],
   "source": [
    "df.columns"
   ]
  },
  {
   "cell_type": "code",
   "execution_count": 93,
   "metadata": {},
   "outputs": [
    {
     "data": {
      "text/plain": [
       "Index(['Mahsa_Amini', 'MahsaAmini', 'مهسا_امینی', 'OpIran', 'اعتصابات_سراسری',\n",
       "       'IranRevoIution2022', 'IranRevolution', 'زن_زندگی_آزادی',\n",
       "       'IranRevolution2022', 'mahsaamini'],\n",
       "      dtype='object')"
      ]
     },
     "execution_count": 93,
     "metadata": {},
     "output_type": "execute_result"
    }
   ],
   "source": [
    "col=df_hashtag['hashtags_2'].value_counts().head(10).index\n",
    "col"
   ]
  },
  {
   "cell_type": "code",
   "execution_count": 96,
   "metadata": {},
   "outputs": [],
   "source": [
    "#df_hashtag[df_hashtag['hashtags_0']=='OpIran'].pivot_table(index=df_hashtag['user_id'],columns=col,values=df_hashtag['hashtags_2']).count()"
   ]
  },
  {
   "cell_type": "code",
   "execution_count": null,
   "metadata": {},
   "outputs": [],
   "source": []
  }
 ],
 "metadata": {
  "kernelspec": {
   "display_name": "Python 3.10.4",
   "language": "python",
   "name": "python3"
  },
  "language_info": {
   "codemirror_mode": {
    "name": "ipython",
    "version": 3
   },
   "file_extension": ".py",
   "mimetype": "text/x-python",
   "name": "python",
   "nbconvert_exporter": "python",
   "pygments_lexer": "ipython3",
   "version": "3.10.4"
  },
  "orig_nbformat": 4,
  "vscode": {
   "interpreter": {
    "hash": "c7c877c472abd71cfb466198be60a02517737e4a069719366b874865d225ee0a"
   }
  }
 },
 "nbformat": 4,
 "nbformat_minor": 2
}
